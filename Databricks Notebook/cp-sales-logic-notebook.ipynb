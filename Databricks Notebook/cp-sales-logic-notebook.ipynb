{
 "cells": [
  {
   "cell_type": "markdown",
   "metadata": {
    "application/vnd.databricks.v1+cell": {
     "cellMetadata": {},
     "inputWidgets": {},
     "nuid": "4bfed30f-59f4-49ba-8c17-358cd5f52dba",
     "showTitle": false,
     "tableResultSettingsMap": {},
     "title": ""
    }
   },
   "source": [
    "Fetching filename from trigger body"
   ]
  },
  {
   "cell_type": "code",
   "execution_count": 0,
   "metadata": {
    "application/vnd.databricks.v1+cell": {
     "cellMetadata": {
      "byteLimit": 2048000,
      "rowLimit": 10000
     },
     "inputWidgets": {},
     "nuid": "4ce99b47-c0fb-4093-bcd4-f7aaf51eea6b",
     "showTitle": false,
     "tableResultSettingsMap": {},
     "title": ""
    },
    "jupyter": {
     "outputs_hidden": true
    }
   },
   "outputs": [],
   "source": [
    "filename = dbutils.widgets.get(\"filename\")\n",
    "print(filename)\n"
   ]
  },
  {
   "cell_type": "markdown",
   "metadata": {
    "application/vnd.databricks.v1+cell": {
     "cellMetadata": {},
     "inputWidgets": {},
     "nuid": "d96b3e74-bca6-4db8-95fa-a732b1131db3",
     "showTitle": false,
     "tableResultSettingsMap": {},
     "title": ""
    }
   },
   "source": [
    "Databricks Scope and Azure key vault secrete key :-"
   ]
  },
  {
   "cell_type": "code",
   "execution_count": 0,
   "metadata": {
    "application/vnd.databricks.v1+cell": {
     "cellMetadata": {
      "byteLimit": 2048000,
      "rowLimit": 10000
     },
     "inputWidgets": {},
     "nuid": "a55c281f-da10-4368-b812-23c2f3be000d",
     "showTitle": false,
     "tableResultSettingsMap": {},
     "title": ""
    }
   },
   "outputs": [],
   "source": [
    "storageScope = \"DatabricksScope\"        \n",
    "storageKey = \"storagesecrete\"   \n",
    "display(storageScope)\n",
    "display(storageKey)\n",
    "\n",
    "storagePassword=dbutils.secrets.get(scope=storageScope, key=storageKey) \n"
   ]
  },
  {
   "cell_type": "markdown",
   "metadata": {
    "application/vnd.databricks.v1+cell": {
     "cellMetadata": {},
     "inputWidgets": {},
     "nuid": "83fa7fb5-2ed5-407d-a2f9-2f923ae286e6",
     "showTitle": false,
     "tableResultSettingsMap": {},
     "title": ""
    }
   },
   "source": [
    "**Mount Point creation ** "
   ]
  },
  {
   "cell_type": "code",
   "execution_count": 0,
   "metadata": {
    "application/vnd.databricks.v1+cell": {
     "cellMetadata": {
      "byteLimit": 2048000,
      "rowLimit": 10000
     },
     "inputWidgets": {},
     "nuid": "1d09e5d5-b6c8-4342-a6d4-25da29e2d0c6",
     "showTitle": false,
     "tableResultSettingsMap": {},
     "title": ""
    }
   },
   "outputs": [],
   "source": [
    "alreadyMounted = False\n",
    "for x in dbutils.fs.mounts():\n",
    "    if x.mountPoint ==('/mnt/sales'):\n",
    "     alreadyMounted = True\n",
    "     break\n",
    "else:\n",
    "  alreadyMounted = False\n",
    "  print(\"Mounting not done\")"
   ]
  },
  {
   "cell_type": "code",
   "execution_count": 0,
   "metadata": {
    "application/vnd.databricks.v1+cell": {
     "cellMetadata": {
      "byteLimit": 2048000,
      "rowLimit": 10000
     },
     "inputWidgets": {},
     "nuid": "d2c7eb6c-b5af-4394-936b-1fdcdd76df32",
     "showTitle": false,
     "tableResultSettingsMap": {},
     "title": ""
    }
   },
   "outputs": [],
   "source": [
    "if not alreadyMounted:\n",
    "    dbutils.fs.mount (                                                                                         \n",
    "    source = \"wasbs://sales@cpsalesstorage.blob.core.windows.net\",                                      \n",
    "    mount_point = \"/mnt/sales\",                                                                           \n",
    "    extra_configs = {\"fs.azure.account.key.cpsalesstorage.blob.core.windows.net\": storagePassword}\n",
    "    )\n",
    "    alreadyMounted = True\n",
    "    \n",
    "    print(\"Mounting done successfully\")\n",
    "else:   \n",
    "    print(\"Already Mounted\")"
   ]
  },
  {
   "cell_type": "code",
   "execution_count": 0,
   "metadata": {
    "application/vnd.databricks.v1+cell": {
     "cellMetadata": {},
     "inputWidgets": {},
     "nuid": "f5034f4b-280f-420f-b578-26d5947af505",
     "showTitle": false,
     "tableResultSettingsMap": {},
     "title": ""
    }
   },
   "outputs": [],
   "source": [
    "Mount = dbutils.fs.ls(\"/mnt/sales/\")\n",
    "for f in Mount:\n",
    "    print(f)"
   ]
  },
  {
   "cell_type": "markdown",
   "metadata": {
    "application/vnd.databricks.v1+cell": {
     "cellMetadata": {},
     "inputWidgets": {},
     "nuid": "ede0e6bf-64fa-46bf-a693-06708cfe7630",
     "showTitle": false,
     "tableResultSettingsMap": {},
     "title": ""
    }
   },
   "source": [
    "%md\n",
    "**1st Validation Checks (No Duplicate value of order_id in file) :-**"
   ]
  },
  {
   "cell_type": "code",
   "execution_count": 0,
   "metadata": {
    "application/vnd.databricks.v1+cell": {
     "cellMetadata": {
      "byteLimit": 2048000,
      "rowLimit": 10000
     },
     "inputWidgets": {},
     "nuid": "ff56c14f-a1c9-4c94-a6cd-c77ce5851842",
     "showTitle": false,
     "tableResultSettingsMap": {},
     "title": ""
    },
    "jupyter": {
     "outputs_hidden": true
    }
   },
   "outputs": [],
   "source": [
    "orderDf = spark.read.csv('/mnt/sales/landing/{}'.format(filename),inferSchema = True , header = True)   \n",
    "display(orderDf)\n",
    "\n",
    "count_orderDf=orderDf.count()                                                             \n",
    "print(count_orderDf)                                                                       \n",
    "\n",
    "distinct_count_orderDf=orderDf.select('order_id').distinct().count()                     \n",
    "print(distinct_count_orderDf)                                                             \n",
    "\n"
   ]
  },
  {
   "cell_type": "code",
   "execution_count": 0,
   "metadata": {
    "application/vnd.databricks.v1+cell": {
     "cellMetadata": {},
     "inputWidgets": {},
     "nuid": "26fec656-6ea9-4341-b8a4-b502a9bca2de",
     "showTitle": false,
     "tableResultSettingsMap": {},
     "title": ""
    }
   },
   "outputs": [],
   "source": [
    "\n",
    "if count_orderDf !=  distinct_count_orderDf:                                         \n",
    "    errorFlg =True                             \n",
    "   \n",
    "    if errorFlg:\n",
    "        dbutils.fs.mv('/mnt/sales/landing/{}'.format('filename'), '/mnt/sales/discarded')\n",
    "        dbutils.notebook.exit('{errorFlg:\"True\", Error Message:\"Duplicate records in orders.csv\"}')\n",
    "else:                                                  \n",
    "    orderDf.createOrReplaceTempView(\"orders\")         \n",
    "    print('{OrderTableCreated:\"True\", Error Message:\"No Duplicate records in orders.csv\"}')"
   ]
  },
  {
   "cell_type": "markdown",
   "metadata": {
    "application/vnd.databricks.v1+cell": {
     "cellMetadata": {},
     "inputWidgets": {},
     "nuid": "c9b7cade-97ca-4526-a57b-e9c82cb604c3",
     "showTitle": false,
     "tableResultSettingsMap": {},
     "title": ""
    }
   },
   "source": [
    "**2nd Validation Checks (Checking order_status is valid or not) :-**\n"
   ]
  },
  {
   "cell_type": "code",
   "execution_count": 0,
   "metadata": {
    "application/vnd.databricks.v1+cell": {
     "cellMetadata": {
      "byteLimit": 2048000,
      "rowLimit": 10000
     },
     "inputWidgets": {},
     "nuid": "fbe27cfe-ec44-48fc-8558-a9b45b1f7536",
     "showTitle": false,
     "tableResultSettingsMap": {},
     "title": ""
    },
    "jupyter": {
     "outputs_hidden": true
    }
   },
   "outputs": [],
   "source": [
    "dbServer ='cpdatabase'\n",
    "dbPort = '1433'\n",
    "dbName = 'cpdatabase'\n",
    "dbUser = 'cpproject@cpdatabase'\n",
    "dbPassword = 'SQLcredentials'\n",
    "sqlScope = 'DatabricksScope'\n",
    "\n",
    "\n",
    "url = \"jdbc:sqlserver://{}.database.windows.net:{};database={};user={};encrypt=true;trustServerCertificate=false;hostNameInCertificate=*.database.windows.net;loginTimeout=30;\".format( dbServer, dbPort, dbName, dbUser)\n",
    "\n",
    "dbPassword= dbutils.secrets.get(scope = sqlScope,key='SQLcredentials')\n",
    "\n",
    "# Define the connection properties\n",
    "connection_properties = {\n",
    "    \n",
    "    \"password\": dbPassword,\n",
    "    \"driver\": \"com.microsoft.sqlserver.jdbc.SQLServerDriver\"\n",
    "}\n",
    "\n",
    "\n",
    "validStatusDf = spark.read.jdbc(\n",
    "    url=url,\n",
    "    table='dbo.valid_order_status',\n",
    "    properties=connection_properties\n",
    ")\n"
   ]
  },
  {
   "cell_type": "code",
   "execution_count": 0,
   "metadata": {
    "application/vnd.databricks.v1+cell": {
     "cellMetadata": {
      "byteLimit": 2048000,
      "rowLimit": 10000
     },
     "inputWidgets": {},
     "nuid": "ee70a43c-c567-4674-a93a-129433c8c6f2",
     "showTitle": false,
     "tableResultSettingsMap": {},
     "title": ""
    }
   },
   "outputs": [],
   "source": [
    "validStatusDf.createOrReplaceTempView(\"valid_status\")\n",
    "\n",
    "invalidRowsDF = spark.sql('select * from orders where order_status not in (select * from valid_status )')\n",
    "count=invalidRowsDF.count()\n",
    "print(count)\n"
   ]
  },
  {
   "cell_type": "code",
   "execution_count": 0,
   "metadata": {
    "application/vnd.databricks.v1+cell": {
     "cellMetadata": {
      "byteLimit": 2048000,
      "rowLimit": 10000
     },
     "inputWidgets": {},
     "nuid": "d81a8677-3ead-46be-998c-d7cfe6136d11",
     "showTitle": false,
     "tableResultSettingsMap": {},
     "title": ""
    }
   },
   "outputs": [],
   "source": [
    "\n",
    "if invalidRowsDF.count() > 0:\n",
    "    errorFlg =True\n",
    "    if errorFlg:\n",
    "        dbutils.fs.mv('/mnt/sales/landing/{}'.format(filename), '/mnt/sales/discarded')  \n",
    "        dbutils.notebook.exit('{errorFlg:\"True\", Error Message:\"Invalid order_status found in orders.csv\"}')\n",
    "else:\n",
    "    dbutils.fs.mv('/mnt/sales/landing/{}'.format(filename), '/mnt/sales/staging')\n",
    "    print(\"All Validations successfull file moved to staging area\")"
   ]
  },
  {
   "cell_type": "markdown",
   "metadata": {
    "application/vnd.databricks.v1+cell": {
     "cellMetadata": {},
     "inputWidgets": {},
     "nuid": "ac0dd983-8ec7-4451-8d82-2cc1a84e5a98",
     "showTitle": false,
     "tableResultSettingsMap": {},
     "title": ""
    }
   },
   "source": [
    "**Preparing Final Business solution (Orders placed by each customers & Amount spent by each cusomer) :-**"
   ]
  },
  {
   "cell_type": "code",
   "execution_count": 0,
   "metadata": {
    "application/vnd.databricks.v1+cell": {
     "cellMetadata": {
      "byteLimit": 2048000,
      "rowLimit": 10000
     },
     "inputWidgets": {},
     "nuid": "63ecfbb8-5021-4d61-8935-933342acae5b",
     "showTitle": false,
     "tableResultSettingsMap": {},
     "title": ""
    }
   },
   "outputs": [],
   "source": [
    "orderItemsDF = spark.read.csv('/mnt/sales/order_items/order_items.csv', header=True, inferSchema=True)\n",
    "\n",
    "orderItemsDF.createOrReplaceTempView(\"order_items\")"
   ]
  },
  {
   "cell_type": "code",
   "execution_count": 0,
   "metadata": {
    "application/vnd.databricks.v1+cell": {
     "cellMetadata": {
      "byteLimit": 2048000,
      "rowLimit": 10000
     },
     "inputWidgets": {},
     "nuid": "e55f4f12-333e-4191-8478-5007426f7a3b",
     "showTitle": false,
     "tableResultSettingsMap": {},
     "title": ""
    }
   },
   "outputs": [],
   "source": [
    "\n",
    "# Create a DataFrame using read.jdbc with the connection properties\n",
    "customerDF = spark.read.jdbc(\n",
    "    url=url,\n",
    "    table='customers',\n",
    "    properties=connection_properties\n",
    ")\n",
    "customerDF.createOrReplaceTempView(\"customers\")\n"
   ]
  },
  {
   "cell_type": "code",
   "execution_count": 0,
   "metadata": {
    "application/vnd.databricks.v1+cell": {
     "cellMetadata": {
      "byteLimit": 2048000,
      "rowLimit": 10000
     },
     "inputWidgets": {},
     "nuid": "4be8e900-d724-49c7-bb69-c0a0df4f0806",
     "showTitle": false,
     "tableResultSettingsMap": {},
     "title": ""
    }
   },
   "outputs": [],
   "source": [
    "stagingordersDF= spark.read.csv('/mnt/sales/staging/{}'.format(filename), header=True, inferSchema=True)\n",
    "\n",
    "stagingordersDF.createOrReplaceTempView(\"stagingorders\")\n"
   ]
  },
  {
   "cell_type": "code",
   "execution_count": 0,
   "metadata": {
    "application/vnd.databricks.v1+cell": {
     "cellMetadata": {
      "byteLimit": 2048000,
      "rowLimit": 10000
     },
     "inputWidgets": {},
     "nuid": "89f498bb-55ca-4fb8-8799-c22340813b0f",
     "showTitle": false,
     "tableResultSettingsMap": {},
     "title": ""
    },
    "jupyter": {
     "outputs_hidden": true
    }
   },
   "outputs": [],
   "source": [
    "Final_result_DF = spark.sql(\"select customers.customer_id, customers.customer_fname, customers.customer_lname, customers.customer_city, customers.customer_state,customers.customer_zipcode,count(order_id) as num_orders_placed, round(sum(order_items.order_item_subtotal),2) as total_amount_spent from customers, stagingorders,order_items where customers.customer_id = stagingorders.customer_id and stagingorders.order_id = order_items.order_item_order_id group by customers.customer_id, customers.customer_fname, customers.customer_lname, customers.customer_city, customers.customer_state, customers.customer_zipcode order by num_orders_placed desc\")"
   ]
  },
  {
   "cell_type": "markdown",
   "metadata": {
    "application/vnd.databricks.v1+cell": {
     "cellMetadata": {},
     "inputWidgets": {},
     "nuid": "5272874b-ce7d-4bcd-bc26-2d076155e61e",
     "showTitle": false,
     "tableResultSettingsMap": {},
     "title": ""
    }
   },
   "source": [
    "**Required Business solution staged in Azure SQL Database**"
   ]
  },
  {
   "cell_type": "code",
   "execution_count": 0,
   "metadata": {
    "application/vnd.databricks.v1+cell": {
     "cellMetadata": {
      "byteLimit": 2048000,
      "rowLimit": 10000
     },
     "inputWidgets": {},
     "nuid": "62401b6b-a53c-4112-bacb-0f517a765d0a",
     "showTitle": false,
     "tableResultSettingsMap": {},
     "title": ""
    }
   },
   "outputs": [],
   "source": [
    "\n",
    "# Create a DataFrame using read.jdbc with the connection properties\n",
    "Final_result_DF.write.jdbc(\n",
    "    url=url,\n",
    "    table='dbo.sales_reporting',\n",
    "    mode='overwrite',\n",
    "    properties=connection_properties\n",
    ")\n"
   ]
  },
  {
   "cell_type": "code",
   "execution_count": 0,
   "metadata": {
    "application/vnd.databricks.v1+cell": {
     "cellMetadata": {
      "byteLimit": 2048000,
      "rowLimit": 10000
     },
     "inputWidgets": {},
     "nuid": "32871feb-d681-463c-baa2-450222b00a7b",
     "showTitle": false,
     "tableResultSettingsMap": {},
     "title": ""
    }
   },
   "outputs": [],
   "source": [
    "print('Final Business Solution exported in Database')"
   ]
  },
  {
   "cell_type": "code",
   "execution_count": 0,
   "metadata": {
    "application/vnd.databricks.v1+cell": {
     "cellMetadata": {},
     "inputWidgets": {},
     "nuid": "ab34634b-212d-444d-9e77-acdf8258f920",
     "showTitle": false,
     "tableResultSettingsMap": {},
     "title": ""
    }
   },
   "outputs": [],
   "source": []
  }
 ],
 "metadata": {
  "application/vnd.databricks.v1+notebook": {
   "computePreferences": null,
   "dashboards": [],
   "environmentMetadata": {
    "base_environment": "",
    "environment_version": "2"
   },
   "inputWidgetPreferences": null,
   "language": "python",
   "notebookMetadata": {
    "mostRecentlyExecutedCommandWithImplicitDF": {
     "commandId": 3180231785565302,
     "dataframes": [
      "_sqldf"
     ]
    },
    "pythonIndentUnit": 4
   },
   "notebookName": "cp-sales-logic-notebook",
   "widgets": {}
  },
  "language_info": {
   "name": "python"
  }
 },
 "nbformat": 4,
 "nbformat_minor": 0
}
